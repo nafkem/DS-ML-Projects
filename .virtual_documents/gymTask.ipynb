


import pandas as pd
import numpy as np


# Reading the dataset

df = pd.read_csv("gym_churn_us.csv")


# checking the dataset
df.head()





df.info()





#2. the number of missing values in the columns
#the number of missing values in the columns

df.isnull().sum()


df.describe()


#1. Data Overview: What is the shape of the dataset (number of rows and columns)?

df.shape





#4. Summary Statistics: Calculate basic statistical measures for numerical columns (mean, median, standard deviation, min, max).

df
